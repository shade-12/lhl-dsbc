{
 "cells": [
  {
   "cell_type": "code",
   "execution_count": 8,
   "id": "30512323",
   "metadata": {},
   "outputs": [],
   "source": [
    "def hello_func():\n",
    "    print(\"Hello Function!\")"
   ]
  },
  {
   "cell_type": "code",
   "execution_count": 9,
   "id": "b975f183",
   "metadata": {},
   "outputs": [
    {
     "name": "stdout",
     "output_type": "stream",
     "text": [
      "<function hello_func at 0x0000026C62C55E50>\n",
      "Hello Function!\n",
      "None\n"
     ]
    }
   ],
   "source": [
    "print(hello_func)\n",
    "print(hello_func())"
   ]
  }
 ],
 "metadata": {
  "kernelspec": {
   "display_name": "Python 3 (ipykernel)",
   "language": "python",
   "name": "python3"
  },
  "language_info": {
   "codemirror_mode": {
    "name": "ipython",
    "version": 3
   },
   "file_extension": ".py",
   "mimetype": "text/x-python",
   "name": "python",
   "nbconvert_exporter": "python",
   "pygments_lexer": "ipython3",
   "version": "3.9.12"
  }
 },
 "nbformat": 4,
 "nbformat_minor": 5
}
