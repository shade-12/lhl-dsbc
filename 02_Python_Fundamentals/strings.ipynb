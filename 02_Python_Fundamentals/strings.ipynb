{
 "cells": [
  {
   "cell_type": "code",
   "execution_count": 2,
   "id": "0f4438f3-71f5-45b2-bd64-31059efa4e03",
   "metadata": {},
   "outputs": [
    {
     "ename": "SyntaxError",
     "evalue": "invalid syntax (684022435.py, line 1)",
     "output_type": "error",
     "traceback": [
      "\u001b[1;36m  Input \u001b[1;32mIn [2]\u001b[1;36m\u001b[0m\n\u001b[1;33m    Hello, world!\u001b[0m\n\u001b[1;37m                ^\u001b[0m\n\u001b[1;31mSyntaxError\u001b[0m\u001b[1;31m:\u001b[0m invalid syntax\n"
     ]
    }
   ],
   "source": [
    "Hello, world!"
   ]
  },
  {
   "cell_type": "code",
   "execution_count": 8,
   "id": "03deb307-2562-40ef-a5a8-cd107c1b71bf",
   "metadata": {},
   "outputs": [
    {
     "data": {
      "text/plain": [
       "str"
      ]
     },
     "execution_count": 8,
     "metadata": {},
     "output_type": "execute_result"
    }
   ],
   "source": [
    "type(\"Hello World\")"
   ]
  },
  {
   "cell_type": "code",
   "execution_count": 7,
   "id": "e721c940-781b-4b65-b663-de533a0f474b",
   "metadata": {},
   "outputs": [
    {
     "data": {
      "text/plain": [
       "int"
      ]
     },
     "execution_count": 7,
     "metadata": {},
     "output_type": "execute_result"
    }
   ],
   "source": [
    "type(2+2)"
   ]
  },
  {
   "cell_type": "code",
   "execution_count": 6,
   "id": "063fe745-7b4a-4b46-ac59-0a54e34d6972",
   "metadata": {},
   "outputs": [
    {
     "data": {
      "text/plain": [
       "str"
      ]
     },
     "execution_count": 6,
     "metadata": {},
     "output_type": "execute_result"
    }
   ],
   "source": [
    "type(\"2+2\")"
   ]
  },
  {
   "cell_type": "code",
   "execution_count": 10,
   "id": "62ea1421-10aa-4682-9adf-22e358b9555d",
   "metadata": {},
   "outputs": [
    {
     "ename": "SyntaxError",
     "evalue": "invalid syntax (2602573069.py, line 1)",
     "output_type": "error",
     "traceback": [
      "\u001b[1;36m  Input \u001b[1;32mIn [10]\u001b[1;36m\u001b[0m\n\u001b[1;33m    print('Let's get down to business!')\u001b[0m\n\u001b[1;37m               ^\u001b[0m\n\u001b[1;31mSyntaxError\u001b[0m\u001b[1;31m:\u001b[0m invalid syntax\n"
     ]
    }
   ],
   "source": [
    "print('Let's get down to business!')"
   ]
  },
  {
   "cell_type": "code",
   "execution_count": 11,
   "id": "07b9998c-7614-4db6-869c-d38942383bae",
   "metadata": {},
   "outputs": [
    {
     "name": "stdout",
     "output_type": "stream",
     "text": [
      "Let's get down to business!\n"
     ]
    }
   ],
   "source": [
    "print(\"Let's get down to business!\")"
   ]
  },
  {
   "cell_type": "code",
   "execution_count": 12,
   "id": "d63a13ce-8c8e-434a-b83a-3125751a8997",
   "metadata": {},
   "outputs": [
    {
     "name": "stdout",
     "output_type": "stream",
     "text": [
      "I said, \"we should go\" and we left.\n"
     ]
    }
   ],
   "source": [
    "print('I said, \"we should go\" and we left.')"
   ]
  },
  {
   "cell_type": "code",
   "execution_count": 13,
   "id": "e35f90f7-f492-4e77-bfa0-b78608aba608",
   "metadata": {},
   "outputs": [
    {
     "ename": "SyntaxError",
     "evalue": "invalid syntax (3064979038.py, line 1)",
     "output_type": "error",
     "traceback": [
      "\u001b[1;36m  Input \u001b[1;32mIn [13]\u001b[1;36m\u001b[0m\n\u001b[1;33m    print(\"I said, \"we should go\" and we left.\")\u001b[0m\n\u001b[1;37m                    ^\u001b[0m\n\u001b[1;31mSyntaxError\u001b[0m\u001b[1;31m:\u001b[0m invalid syntax\n"
     ]
    }
   ],
   "source": [
    "print(\"I said, \"we should go\" and we left.\")"
   ]
  },
  {
   "cell_type": "code",
   "execution_count": 14,
   "id": "e752c853-d8e4-4434-b325-8c159f769510",
   "metadata": {},
   "outputs": [
    {
     "ename": "SyntaxError",
     "evalue": "invalid syntax (1901738960.py, line 1)",
     "output_type": "error",
     "traceback": [
      "\u001b[1;36m  Input \u001b[1;32mIn [14]\u001b[1;36m\u001b[0m\n\u001b[1;33m    print(\"She asked, \"Can't we just leave?\" If only it was that simple.\")\u001b[0m\n\u001b[1;37m                       ^\u001b[0m\n\u001b[1;31mSyntaxError\u001b[0m\u001b[1;31m:\u001b[0m invalid syntax\n"
     ]
    }
   ],
   "source": [
    "print(\"She asked, \"Can't we just leave?\" If only it was that simple.\")"
   ]
  },
  {
   "cell_type": "code",
   "execution_count": 15,
   "id": "7e242c6a-33d9-40d1-99ec-b5b95577a6f1",
   "metadata": {},
   "outputs": [
    {
     "ename": "SyntaxError",
     "evalue": "invalid syntax (3415985041.py, line 1)",
     "output_type": "error",
     "traceback": [
      "\u001b[1;36m  Input \u001b[1;32mIn [15]\u001b[1;36m\u001b[0m\n\u001b[1;33m    print('She asked, \"Can't we just leave?\" If only it was that simple.')\u001b[0m\n\u001b[1;37m                           ^\u001b[0m\n\u001b[1;31mSyntaxError\u001b[0m\u001b[1;31m:\u001b[0m invalid syntax\n"
     ]
    }
   ],
   "source": [
    "print('She asked, \"Can't we just leave?\" If only it was that simple.')"
   ]
  },
  {
   "cell_type": "code",
   "execution_count": 16,
   "id": "29814f0e-927c-4848-918b-99cd3cd10f7c",
   "metadata": {},
   "outputs": [
    {
     "name": "stdout",
     "output_type": "stream",
     "text": [
      "She asked, \"Can't we just leave?\" If only it was that simple.\n",
      "She asked, \"Can't we just leave?\" If only it was that simple.\n"
     ]
    }
   ],
   "source": [
    "print(\"She asked, \\\"Can't we just leave?\\\" If only it was that simple.\")\n",
    "print('She asked, \"Can\\'t we just leave?\" If only it was that simple.')"
   ]
  },
  {
   "cell_type": "code",
   "execution_count": null,
   "id": "4179785b-9391-47ca-a7b8-757fccc4f4c8",
   "metadata": {},
   "outputs": [],
   "source": []
  },
  {
   "cell_type": "code",
   "execution_count": null,
   "id": "ea57bdaa-f532-411c-b60b-a405bfa97ce7",
   "metadata": {},
   "outputs": [],
   "source": []
  },
  {
   "cell_type": "code",
   "execution_count": null,
   "id": "1d9233eb-c42d-4c29-b1c9-ba00fc8b60cb",
   "metadata": {},
   "outputs": [],
   "source": []
  },
  {
   "cell_type": "code",
   "execution_count": null,
   "id": "1d0e2765-2264-4789-b91a-44e847bc00c6",
   "metadata": {},
   "outputs": [],
   "source": []
  },
  {
   "cell_type": "code",
   "execution_count": null,
   "id": "d3c0f00a-9cb2-4f6b-b7f6-1adec82de358",
   "metadata": {},
   "outputs": [],
   "source": []
  },
  {
   "cell_type": "code",
   "execution_count": null,
   "id": "5a65f5d7-9005-41be-a20d-bbca29a445ad",
   "metadata": {},
   "outputs": [],
   "source": []
  },
  {
   "cell_type": "code",
   "execution_count": null,
   "id": "197760b6-f501-4b1d-adcb-63d51fb6bf23",
   "metadata": {},
   "outputs": [],
   "source": []
  },
  {
   "cell_type": "code",
   "execution_count": null,
   "id": "84d3a19c-de42-4d4a-a454-46f605dcee52",
   "metadata": {},
   "outputs": [],
   "source": []
  },
  {
   "cell_type": "code",
   "execution_count": null,
   "id": "bc95f117-f5d8-4853-9741-50b9d1c7e0a0",
   "metadata": {},
   "outputs": [],
   "source": []
  },
  {
   "cell_type": "code",
   "execution_count": null,
   "id": "b5bcfe9e-5b21-4658-9350-2bd173f6a7d0",
   "metadata": {},
   "outputs": [],
   "source": []
  },
  {
   "cell_type": "code",
   "execution_count": null,
   "id": "16f96a88-a640-419b-8913-22cac504a186",
   "metadata": {},
   "outputs": [],
   "source": []
  },
  {
   "cell_type": "code",
   "execution_count": null,
   "id": "16db2703-1e45-4eab-94a6-a9d38afac0d6",
   "metadata": {},
   "outputs": [],
   "source": []
  },
  {
   "cell_type": "code",
   "execution_count": null,
   "id": "62066584-dd8d-4d76-9b39-eb91cc0be364",
   "metadata": {},
   "outputs": [],
   "source": []
  },
  {
   "cell_type": "code",
   "execution_count": null,
   "id": "3a9577f3-28b9-4f6b-8ba1-91d4ce7e06af",
   "metadata": {},
   "outputs": [],
   "source": []
  },
  {
   "cell_type": "code",
   "execution_count": null,
   "id": "5f035677-4a57-4ee2-8e6d-6f3426871ba2",
   "metadata": {},
   "outputs": [],
   "source": []
  }
 ],
 "metadata": {
  "kernelspec": {
   "display_name": "Python 3 (ipykernel)",
   "language": "python",
   "name": "python3"
  },
  "language_info": {
   "codemirror_mode": {
    "name": "ipython",
    "version": 3
   },
   "file_extension": ".py",
   "mimetype": "text/x-python",
   "name": "python",
   "nbconvert_exporter": "python",
   "pygments_lexer": "ipython3",
   "version": "3.9.12"
  }
 },
 "nbformat": 4,
 "nbformat_minor": 5
}
