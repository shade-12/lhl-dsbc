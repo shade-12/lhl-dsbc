{
 "cells": [
  {
   "cell_type": "code",
   "execution_count": 5,
   "id": "6d131bcd-8ec8-4d53-b84e-5b248e2c6d8e",
   "metadata": {},
   "outputs": [
    {
     "name": "stdout",
     "output_type": "stream",
     "text": [
      "300\n"
     ]
    },
    {
     "data": {
      "text/plain": [
       "300"
      ]
     },
     "execution_count": 5,
     "metadata": {},
     "output_type": "execute_result"
    }
   ],
   "source": [
    "n = 300\n",
    "print(n)\n",
    "n"
   ]
  },
  {
   "cell_type": "code",
   "execution_count": 6,
   "id": "a7d9cbbf-2252-46f6-9583-131a7b9da9e4",
   "metadata": {},
   "outputs": [
    {
     "name": "stdout",
     "output_type": "stream",
     "text": [
      "1000\n"
     ]
    },
    {
     "data": {
      "text/plain": [
       "1000"
      ]
     },
     "execution_count": 6,
     "metadata": {},
     "output_type": "execute_result"
    }
   ],
   "source": [
    "n = 1000\n",
    "print(n)\n",
    "n"
   ]
  },
  {
   "cell_type": "code",
   "execution_count": 9,
   "id": "253d3339-2c19-4618-9dfe-1fd32dcd4f34",
   "metadata": {},
   "outputs": [
    {
     "name": "stdout",
     "output_type": "stream",
     "text": [
      "300 300 300\n"
     ]
    }
   ],
   "source": [
    "a = b = c = 300\n",
    "print(a, b, c)"
   ]
  },
  {
   "cell_type": "code",
   "execution_count": 10,
   "id": "25c71aba-1862-4062-8f6f-6f4465f85355",
   "metadata": {},
   "outputs": [
    {
     "name": "stdout",
     "output_type": "stream",
     "text": [
      "23.5\n"
     ]
    }
   ],
   "source": [
    "var = 23.5\n",
    "print(var)"
   ]
  },
  {
   "cell_type": "code",
   "execution_count": 11,
   "id": "9e2f04ba-5f9d-4308-9a04-065e8eac64f1",
   "metadata": {},
   "outputs": [
    {
     "name": "stdout",
     "output_type": "stream",
     "text": [
      "Now, I'm a string\n"
     ]
    }
   ],
   "source": [
    "var = \"Now, I'm a string\"\n",
    "print(var)"
   ]
  },
  {
   "cell_type": "code",
   "execution_count": 12,
   "id": "92a824cf-eacb-481d-9b0e-f7448b5b4349",
   "metadata": {},
   "outputs": [
    {
     "name": "stdout",
     "output_type": "stream",
     "text": [
      "300\n"
     ]
    }
   ],
   "source": [
    "print(300)"
   ]
  },
  {
   "cell_type": "code",
   "execution_count": 13,
   "id": "0971cdd5-c2a5-4d12-8220-eb41a2068ef7",
   "metadata": {},
   "outputs": [
    {
     "data": {
      "text/plain": [
       "int"
      ]
     },
     "execution_count": 13,
     "metadata": {},
     "output_type": "execute_result"
    }
   ],
   "source": [
    "type(300)"
   ]
  },
  {
   "cell_type": "code",
   "execution_count": 14,
   "id": "82a51071-54cf-4484-8dc6-cf01a8b8b9b8",
   "metadata": {},
   "outputs": [
    {
     "name": "stdout",
     "output_type": "stream",
     "text": [
      "300\n"
     ]
    },
    {
     "data": {
      "text/plain": [
       "int"
      ]
     },
     "execution_count": 14,
     "metadata": {},
     "output_type": "execute_result"
    }
   ],
   "source": [
    "n = 300\n",
    "print(n)\n",
    "type(n) # n points to an integer object"
   ]
  },
  {
   "cell_type": "code",
   "execution_count": 18,
   "id": "e2be1562-9a86-472e-97f6-de89d0efa1ab",
   "metadata": {},
   "outputs": [],
   "source": [
    "m = n # m and n are pointing to the same integer object with value 300\n",
    "m = 400 # Python creates a new integer object with value 400 and m becomes a reference to it"
   ]
  },
  {
   "cell_type": "code",
   "execution_count": 29,
   "id": "5f5a96d0-b536-4ba3-a092-03dde8503192",
   "metadata": {},
   "outputs": [],
   "source": [
    "n = \"foo\"\n",
    "# Now n is a reference to the new string object \n",
    "# The integer object with value 300 is now orphaned and there's no way to access it anymore\n",
    "# Python will claim the allocated memory back once the object lifetime is over (reference number drops to 0) - aka garbage collection"
   ]
  },
  {
   "cell_type": "code",
   "execution_count": 24,
   "id": "966d2c09-ba12-44e5-ae0b-6e6a0f14aa0d",
   "metadata": {},
   "outputs": [
    {
     "data": {
      "text/plain": [
       "2625300165136"
      ]
     },
     "execution_count": 24,
     "metadata": {},
     "output_type": "execute_result"
    }
   ],
   "source": [
    "n = 300\n",
    "m = n\n",
    "id(n)"
   ]
  },
  {
   "cell_type": "code",
   "execution_count": 25,
   "id": "9d31de2b-2af7-42c3-8525-92b3e822375c",
   "metadata": {},
   "outputs": [
    {
     "data": {
      "text/plain": [
       "2625300165136"
      ]
     },
     "execution_count": 25,
     "metadata": {},
     "output_type": "execute_result"
    }
   ],
   "source": [
    "id(m)"
   ]
  },
  {
   "cell_type": "code",
   "execution_count": 28,
   "id": "b7f755de-3f3a-457d-871f-1679f27db4c5",
   "metadata": {},
   "outputs": [
    {
     "data": {
      "text/plain": [
       "2625319450608"
      ]
     },
     "execution_count": 28,
     "metadata": {},
     "output_type": "execute_result"
    }
   ],
   "source": [
    "m = 400\n",
    "id(m) # m points to a different object than n now"
   ]
  },
  {
   "cell_type": "code",
   "execution_count": 31,
   "id": "2bf9b058-9f23-4647-9713-b12cdc1d85c1",
   "metadata": {},
   "outputs": [
    {
     "name": "stdout",
     "output_type": "stream",
     "text": [
      "Bob 54 True\n"
     ]
    }
   ],
   "source": [
    "name = \"Bob\"\n",
    "age = 54\n",
    "has_W2 = True\n",
    "print(name, age, has_W2)"
   ]
  },
  {
   "cell_type": "code",
   "execution_count": 32,
   "id": "137b82a6-d0a2-439f-8182-dd4edeede339",
   "metadata": {},
   "outputs": [
    {
     "ename": "SyntaxError",
     "evalue": "invalid decimal literal (4226384492.py, line 1)",
     "output_type": "error",
     "traceback": [
      "\u001b[1;36m  Input \u001b[1;32mIn [32]\u001b[1;36m\u001b[0m\n\u001b[1;33m    1099_filed = False\u001b[0m\n\u001b[1;37m        ^\u001b[0m\n\u001b[1;31mSyntaxError\u001b[0m\u001b[1;31m:\u001b[0m invalid decimal literal\n"
     ]
    }
   ],
   "source": [
    "1099_filed = False"
   ]
  },
  {
   "cell_type": "code",
   "execution_count": 33,
   "id": "75d1dcba-f21d-4a4e-a500-02fafbc48594",
   "metadata": {},
   "outputs": [
    {
     "name": "stdout",
     "output_type": "stream",
     "text": [
      "\n",
      "Here is a list of the Python keywords.  Enter any keyword to get more help.\n",
      "\n",
      "False               break               for                 not\n",
      "None                class               from                or\n",
      "True                continue            global              pass\n",
      "__peg_parser__      def                 if                  raise\n",
      "and                 del                 import              return\n",
      "as                  elif                in                  try\n",
      "assert              else                is                  while\n",
      "async               except              lambda              with\n",
      "await               finally             nonlocal            yield\n",
      "\n"
     ]
    }
   ],
   "source": [
    "help(\"keywords\")"
   ]
  },
  {
   "cell_type": "code",
   "execution_count": 34,
   "id": "62a865e9-e59e-4f7f-b5f8-70095c004956",
   "metadata": {},
   "outputs": [
    {
     "ename": "SyntaxError",
     "evalue": "invalid syntax (191355952.py, line 1)",
     "output_type": "error",
     "traceback": [
      "\u001b[1;36m  Input \u001b[1;32mIn [34]\u001b[1;36m\u001b[0m\n\u001b[1;33m    for = 3\u001b[0m\n\u001b[1;37m        ^\u001b[0m\n\u001b[1;31mSyntaxError\u001b[0m\u001b[1;31m:\u001b[0m invalid syntax\n"
     ]
    }
   ],
   "source": [
    "for = 3"
   ]
  }
 ],
 "metadata": {
  "kernelspec": {
   "display_name": "Python 3 (ipykernel)",
   "language": "python",
   "name": "python3"
  },
  "language_info": {
   "codemirror_mode": {
    "name": "ipython",
    "version": 3
   },
   "file_extension": ".py",
   "mimetype": "text/x-python",
   "name": "python",
   "nbconvert_exporter": "python",
   "pygments_lexer": "ipython3",
   "version": "3.9.12"
  }
 },
 "nbformat": 4,
 "nbformat_minor": 5
}
