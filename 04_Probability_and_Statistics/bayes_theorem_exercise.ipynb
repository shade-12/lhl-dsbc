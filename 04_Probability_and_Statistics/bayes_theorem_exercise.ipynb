{
 "cells": [
  {
   "cell_type": "markdown",
   "metadata": {
    "ExecuteTime": {
     "end_time": "2020-02-05T17:56:18.818219Z",
     "start_time": "2020-02-05T17:56:18.810698Z"
    }
   },
   "source": [
    "## Exercise 1\n",
    "In Orange County, 51% of the adults are males. (It doesn't take too much advanced\n",
    "mathematics to deduce that the other 49% are females.) One adult is randomly selected\n",
    "for a survey involving credit card usage.\n",
    "\n",
    "- **(a)** Find the probability that the selected person is a male.\n",
    "\n",
    "- **(b)** It is later learned that the selected survey subject was smoking a cigar. Also, 9.5% of males smoke cigars, whereas 1.7% of females smoke cigars (based on data from the Substance Abuse and Mental Health Services Administration). Use this additional information to find the probability that the cigar−smoking respondent is a male\n",
    "\n",
    "Use following notation:\n",
    "M = male <br>\n",
    "F = female <br>\n",
    "C = cigar smoker<br>\n",
    "NC = not a cigar smoker<br>\n"
   ]
  },
  {
   "cell_type": "code",
   "execution_count": 1,
   "metadata": {},
   "outputs": [],
   "source": [
    "p_m = 0.51 # Probability of a selected person is a male"
   ]
  },
  {
   "cell_type": "code",
   "execution_count": 2,
   "metadata": {
    "scrolled": true
   },
   "outputs": [
    {
     "data": {
      "text/plain": [
       "0.8532934131736527"
      ]
     },
     "execution_count": 2,
     "metadata": {},
     "output_type": "execute_result"
    }
   ],
   "source": [
    "# Find the probability that the cigar-smoking respondent is a male\n",
    "# Find P(M|C) = P(M)P(C|M) / P(C)\n",
    "\n",
    "# P(M) = 0.51, P(C) = P(M)P(C|M) + P(F)P(C|F), P(C|M) = 0.095\n",
    "p_cm = 0.095\n",
    "p_cf = 0.017\n",
    "p_f = 1 - p_m\n",
    "p_c = p_m * 0.095 + p_f * p_cf\n",
    "p_mc = p_m * p_cm / p_c\n",
    "p_mc"
   ]
  },
  {
   "cell_type": "markdown",
   "metadata": {
    "ExecuteTime": {
     "end_time": "2020-02-05T17:56:20.532960Z",
     "start_time": "2020-02-05T17:56:20.525450Z"
    }
   },
   "source": [
    "# Exercise 2\n",
    "\n",
    "A diagnostic test has a probability 0.95 of giving a positive result when applied to a person suffering\n",
    "from a certain disease, and a probability 0.10 of giving a (false) positive when applied to a non-sufferer. It is\n",
    "estimated that 0.5 % of the population are sufferers. Suppose that the test is now administered to a person about\n",
    "whom we have no relevant information relating to the disease (apart from the fact that he/she comes from this\n",
    "population). \n",
    "\n",
    "Calculate the following probabilities:\n",
    "- **(a)** that the test result will be positive;\n",
    "- **(b)** that, given a positive result, the person is a sufferer;\n",
    "- **(c)** that, given a negative result, the person is a non-sufferer;\n",
    "- **(d)** that the person will be misclassified.\n",
    "\n",
    "Use following notation:\n",
    "\n",
    "T = test positive <br>\n",
    "NT = test negative<br>\n",
    "S = sufferer<br>\n",
    "NS = non-sufferer<br>\n",
    "M = misclassified<br>\n",
    "\n",
    "Solve it by two approaches:\n",
    "1. Arithmetically\n",
    "2. By simulation"
   ]
  },
  {
   "cell_type": "code",
   "execution_count": 8,
   "metadata": {},
   "outputs": [
    {
     "name": "stdout",
     "output_type": "stream",
     "text": [
      "Probability where the test result will be positive: 0.10425000000000001.\n",
      "Probability where given a positive result, the person is a sufferer: 0.04556354916067146.\n",
      "Probability where given a negative result, the person is a non-sufferer: 0.9997209042701646.\n",
      "Probability where the person will be misclassified: 0.1082074999999999.\n"
     ]
    }
   ],
   "source": [
    "# Arithmetic solution\n",
    "\n",
    "# P(T|S) = 0.95\n",
    "# P(T|NS) = 0.1\n",
    "# P(S) = 0.005\n",
    "\n",
    "p_ts = 0.95\n",
    "p_tns = 0.1\n",
    "p_s = 0.005\n",
    "p_ns = 1 - p_s\n",
    "\n",
    "# The probability where the test result will be positive\n",
    "# P(T) = P(S)P(T|S) + P(NS)P(T|NS)\n",
    "p_t = p_s * p_ts + p_ns * p_tns\n",
    "\n",
    "# The probability where given a positive result, the person is a sufferer\n",
    "# P(S|T) = P(S)P(T|S)/P(T)\n",
    "p_st = p_s * p_ts / p_t\n",
    "\n",
    "# The probability where given a negative result, the person is a non-sufferer\n",
    "# P(NS|NT) = P(NS)P(NT|NS)/P(NT)\n",
    "p_nt = 1 - p_t\n",
    "p_ntns = 1 - p_tns\n",
    "p_nsnt = p_ns * p_ntns / p_nt\n",
    "\n",
    "# The probability where the person will be misclassified\n",
    "# P(M) = 1 - P(S and T) - P(NS and NT)\n",
    "p_m = 1 - p_s * p_t - p_ns * p_nt\n",
    "\n",
    "\n",
    "print(f'Probability where the test result will be positive: {p_t}.')\n",
    "print(f'Probability where given a positive result, the person is a sufferer: {p_st}.')\n",
    "print(f'Probability where given a negative result, the person is a non-sufferer: {p_nsnt}.')\n",
    "print(f'Probability where the person will be misclassified: {p_m}.')"
   ]
  },
  {
   "cell_type": "code",
   "execution_count": 19,
   "metadata": {},
   "outputs": [],
   "source": [
    "# Simulation solution\n",
    "\n",
    "import numpy as np\n",
    "\n",
    "# Number of times to run the simulation\n",
    "n_runs = 10000000"
   ]
  },
  {
   "cell_type": "code",
   "execution_count": 20,
   "metadata": {},
   "outputs": [],
   "source": [
    "# Initialize variables\n",
    "POS = 0\n",
    "NEG = 0\n",
    "SUF = 0\n",
    "NSUF = 0\n",
    "SUF_POS = 0\n",
    "NSUF_NEG = 0\n",
    "MIS = 0"
   ]
  },
  {
   "cell_type": "code",
   "execution_count": 21,
   "metadata": {},
   "outputs": [],
   "source": [
    "# Run simulation\n",
    "for _ in range(n_runs):\n",
    "    \n",
    "    # Probability where the person selected is a sufferer\n",
    "    if np.random.random() < p_s:\n",
    "        SUF += 1\n",
    "        \n",
    "        # Tested positive\n",
    "        if np.random.random() < p_ts: # P(T|S)\n",
    "            SUF_POS += 1\n",
    "            POS += 1\n",
    "        \n",
    "        # Tested negative\n",
    "        else:\n",
    "            MIS += 1\n",
    "            NEG += 1\n",
    "        \n",
    "    else:\n",
    "        NSUF += 1\n",
    "        \n",
    "        # Tested positive\n",
    "        if np.random.random() < p_tns: # P(T|NS)\n",
    "            MIS += 1\n",
    "            POS += 1\n",
    "        \n",
    "        # Tested negative\n",
    "        else:\n",
    "            NSUF_NEG += 1\n",
    "            NEG += 1"
   ]
  },
  {
   "cell_type": "code",
   "execution_count": 22,
   "metadata": {},
   "outputs": [],
   "source": [
    "# Probabilities\n",
    "P_T = POS / n_runs\n",
    "P_ST = SUF_POS / n_runs\n",
    "P_NSNT = NSUF_NEG / n_runs\n",
    "P_M = MIS / n_runs"
   ]
  },
  {
   "cell_type": "code",
   "execution_count": 23,
   "metadata": {},
   "outputs": [
    {
     "name": "stdout",
     "output_type": "stream",
     "text": [
      "Probability where the test result will be positive: 0.104278.\n",
      "Probability where given a positive result, the person is a sufferer: 0.0047604.\n",
      "Probability where given a negative result, the person is a non-sufferer: 0.8954804.\n",
      "Probability where the person will be misclassified: 0.0997592.\n"
     ]
    }
   ],
   "source": [
    "print(f'Probability where the test result will be positive: {P_T}.')\n",
    "print(f'Probability where given a positive result, the person is a sufferer: {P_ST}.')\n",
    "print(f'Probability where given a negative result, the person is a non-sufferer: {P_NSNT}.')\n",
    "print(f'Probability where the person will be misclassified: {P_M}.')"
   ]
  }
 ],
 "metadata": {
  "kernelspec": {
   "display_name": "Python 3 (ipykernel)",
   "language": "python",
   "name": "python3"
  },
  "language_info": {
   "codemirror_mode": {
    "name": "ipython",
    "version": 3
   },
   "file_extension": ".py",
   "mimetype": "text/x-python",
   "name": "python",
   "nbconvert_exporter": "python",
   "pygments_lexer": "ipython3",
   "version": "3.9.12"
  },
  "toc": {
   "base_numbering": 1,
   "nav_menu": {},
   "number_sections": true,
   "sideBar": true,
   "skip_h1_title": false,
   "title_cell": "Table of Contents",
   "title_sidebar": "Contents",
   "toc_cell": false,
   "toc_position": {},
   "toc_section_display": true,
   "toc_window_display": false
  },
  "varInspector": {
   "cols": {
    "lenName": 16,
    "lenType": 16,
    "lenVar": 40
   },
   "kernels_config": {
    "python": {
     "delete_cmd_postfix": "",
     "delete_cmd_prefix": "del ",
     "library": "var_list.py",
     "varRefreshCmd": "print(var_dic_list())"
    },
    "r": {
     "delete_cmd_postfix": ") ",
     "delete_cmd_prefix": "rm(",
     "library": "var_list.r",
     "varRefreshCmd": "cat(var_dic_list()) "
    }
   },
   "types_to_exclude": [
    "module",
    "function",
    "builtin_function_or_method",
    "instance",
    "_Feature"
   ],
   "window_display": false
  }
 },
 "nbformat": 4,
 "nbformat_minor": 4
}
