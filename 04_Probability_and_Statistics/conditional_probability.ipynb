{
 "cells": [
  {
   "cell_type": "code",
   "execution_count": 1,
   "id": "d0256209",
   "metadata": {},
   "outputs": [],
   "source": [
    "import numpy as np"
   ]
  },
  {
   "cell_type": "code",
   "execution_count": 2,
   "id": "18e59067",
   "metadata": {},
   "outputs": [],
   "source": [
    "# how many times we run the simulation\n",
    "n_runs = 100000\n",
    "\n",
    "# initialize variables\n",
    "SAM = 0\n",
    "SAM_YES = 0\n",
    "SAM_NO = 0\n",
    "ALEX = 0\n",
    "ALEX_YES = 0\n",
    "ALEX_NO = 0\n",
    "YES = 0\n",
    "NO = 0"
   ]
  },
  {
   "cell_type": "code",
   "execution_count": 3,
   "id": "e3906fe7",
   "metadata": {},
   "outputs": [],
   "source": [
    "# process simulation\n",
    "for _ in range(n_runs):\n",
    "    # Sam (probability of Sam being the coach)\n",
    "    if np.random.random() < 0.6: \n",
    "        SAM += 1\n",
    "\n",
    "        # YES\n",
    "        if np.random.random() < 0.5: # P(G|S)\n",
    "            SAM_YES += 1\n",
    "            YES +=1\n",
    "\n",
    "        # NO\n",
    "        else:\n",
    "            SAM_NO += 1\n",
    "            NO += 1\n",
    "\n",
    "    #Alex (probability of Alex being the coach)\n",
    "    else:\n",
    "        ALEX += 1\n",
    "\n",
    "        # YES\n",
    "        if np.random.random() < 0.3: # P(G|A)\n",
    "            ALEX_YES += 1\n",
    "            YES += 1\n",
    "\n",
    "        # NO\n",
    "        else:\n",
    "            ALEX_NO += 1\n",
    "            NO +=1"
   ]
  },
  {
   "cell_type": "code",
   "execution_count": 4,
   "id": "2deb4bbc",
   "metadata": {},
   "outputs": [],
   "source": [
    "# create probabilities\n",
    "P_SAM = SAM / n_runs * 100\n",
    "P_SAM_YES = SAM_YES / n_runs * 100\n",
    "P_SAM_NO = SAM_NO / n_runs * 100\n",
    "P_ALEX = ALEX / n_runs * 100\n",
    "P_ALEX_YES = ALEX_YES / n_runs * 100\n",
    "P_ALEX_NO = ALEX_NO / n_runs * 100\n",
    "P_YES = YES / n_runs * 100\n",
    "P_NO = NO / n_runs * 100"
   ]
  },
  {
   "cell_type": "code",
   "execution_count": 5,
   "id": "78b5180b",
   "metadata": {},
   "outputs": [
    {
     "name": "stdout",
     "output_type": "stream",
     "text": [
      "Sam is the coach: 60.094%\n",
      "Sam is the coach and you are the goalkeeper: 30.183%\n",
      "Sam is the coach and you are not the goalkeeper: 29.910999999999998%\n",
      "Alex is the coach: 39.906000000000006%\n",
      "Alex is the coach and you are the goalkeeper: 12.012%\n",
      "Alex is the coach and you are not the goalkeeper: 27.894000000000002%\n",
      "You are the goalkeeper: 42.195%\n",
      "You are not the goalkeeper: 57.80499999999999\n"
     ]
    }
   ],
   "source": [
    "print(f'Sam is the coach: {P_SAM}%')\n",
    "print(f'Sam is the coach and you are the goalkeeper: {P_SAM_YES}%')\n",
    "print(f'Sam is the coach and you are not the goalkeeper: {P_SAM_NO}%')\n",
    "print(f'Alex is the coach: {P_ALEX}%')\n",
    "print(f'Alex is the coach and you are the goalkeeper: {P_ALEX_YES}%')\n",
    "print(f'Alex is the coach and you are not the goalkeeper: {P_ALEX_NO}%')\n",
    "print(f'You are the goalkeeper: {P_YES}%')\n",
    "print(f'You are not the goalkeeper: {P_NO}')"
   ]
  },
  {
   "cell_type": "code",
   "execution_count": 6,
   "id": "8564fed3",
   "metadata": {},
   "outputs": [
    {
     "name": "stdout",
     "output_type": "stream",
     "text": [
      "0.7153217205830075\n"
     ]
    }
   ],
   "source": [
    "# P(Sam | goalkeeper)\n",
    "P_SAM_GOAL = P_SAM_YES / P_YES\n",
    "print(P_SAM_GOAL)"
   ]
  }
 ],
 "metadata": {
  "kernelspec": {
   "display_name": "Python 3 (ipykernel)",
   "language": "python",
   "name": "python3"
  },
  "language_info": {
   "codemirror_mode": {
    "name": "ipython",
    "version": 3
   },
   "file_extension": ".py",
   "mimetype": "text/x-python",
   "name": "python",
   "nbconvert_exporter": "python",
   "pygments_lexer": "ipython3",
   "version": "3.9.12"
  }
 },
 "nbformat": 4,
 "nbformat_minor": 5
}
