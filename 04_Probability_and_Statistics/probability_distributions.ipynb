{
 "cells": [
  {
   "cell_type": "markdown",
   "id": "7abe59a6",
   "metadata": {},
   "source": [
    "## Importing libraries"
   ]
  },
  {
   "cell_type": "code",
   "execution_count": 5,
   "id": "01fbbaff",
   "metadata": {},
   "outputs": [],
   "source": [
    "import numpy as np\n",
    "import matplotlib.pyplot as plt\n",
    "from collections import Counter"
   ]
  },
  {
   "cell_type": "code",
   "execution_count": 6,
   "id": "562fa996",
   "metadata": {},
   "outputs": [],
   "source": [
    "# Set plot style\n",
    "plt.style.use('fivethirtyeight')"
   ]
  },
  {
   "cell_type": "code",
   "execution_count": 9,
   "id": "4bf53d02",
   "metadata": {},
   "outputs": [
    {
     "data": {
      "text/plain": [
       "0.6340803967880029"
      ]
     },
     "execution_count": 9,
     "metadata": {},
     "output_type": "execute_result"
    }
   ],
   "source": [
    "# Generate random number (0 <= random_num < 1)\n",
    "random_num = np.random.random()\n",
    "random_num"
   ]
  },
  {
   "cell_type": "code",
   "execution_count": 10,
   "id": "41998e18",
   "metadata": {},
   "outputs": [
    {
     "data": {
      "text/plain": [
       "array([0.66013715, 0.85923248, 0.86402564, 0.50155311])"
      ]
     },
     "execution_count": 10,
     "metadata": {},
     "output_type": "execute_result"
    }
   ],
   "source": [
    "# Generate a list of random numbers, where 0 <= each number < 1\n",
    "random_num = np.random.random(4)\n",
    "random_num"
   ]
  },
  {
   "cell_type": "code",
   "execution_count": 11,
   "id": "24cb50da",
   "metadata": {},
   "outputs": [],
   "source": [
    "# Use seed - which gives the same random number everytime if the same seed is used\n",
    "# np.random.random is a pseudorandom number generator\n",
    "np.random.seed(42)"
   ]
  },
  {
   "cell_type": "markdown",
   "id": "e95f1e9d",
   "metadata": {},
   "source": [
    "## Binomial Distribution (Discrete Distribution)"
   ]
  },
  {
   "cell_type": "markdown",
   "id": "ceed6859",
   "metadata": {},
   "source": [
    "Binomial distribution with parameters n and p is a discrete probability distribution."
   ]
  },
  {
   "cell_type": "code",
   "execution_count": 15,
   "id": "406386d8",
   "metadata": {},
   "outputs": [
    {
     "data": {
      "text/plain": [
       "array([4, 4, 7, 4, 4, 6, 5, 6, 3, 5, 2, 3, 7, 3, 5, 5, 4, 7, 2, 6, 8, 5,\n",
       "       7, 2, 5, 4, 6, 8, 4, 6, 4, 5, 5, 8, 5, 4, 3, 3, 4, 4, 7, 5, 5, 3,\n",
       "       7, 6, 3, 6, 5, 3, 5, 5, 3, 8, 7, 6, 5, 5, 6, 5, 3, 5, 6, 5, 2, 6,\n",
       "       4, 4, 3, 4, 6, 5, 4, 7, 7, 7, 4, 5, 8, 6, 2, 3, 5, 7, 5, 5, 3, 6,\n",
       "       6, 5, 6, 8, 4, 5, 4, 6, 5, 6, 6, 5, 7, 5, 3, 6, 6, 4, 7, 7, 4, 8,\n",
       "       3, 4, 4, 7, 6, 3, 5, 5, 3, 7, 6, 5, 8, 5, 8, 6, 6, 3, 7, 5, 3, 2,\n",
       "       5, 5, 6, 7, 3, 6, 4, 7, 6, 5, 6, 4, 5, 6, 5, 4, 5, 7, 4, 4, 6, 6,\n",
       "       3, 4, 3, 4, 5, 6, 6, 5, 4, 7, 5, 8, 6, 3, 6, 4, 6, 3, 4, 7, 4, 7,\n",
       "       4, 6, 6, 5, 4, 4, 2, 4, 6, 7, 7, 6, 6, 6, 4, 7, 6, 5, 3, 5, 5, 7,\n",
       "       5, 5, 8, 3, 5, 2, 6, 7, 4, 7, 4, 7, 6, 6, 2, 8, 6, 4, 7, 4, 7, 3,\n",
       "       6, 5, 3, 4, 2, 5, 4, 5, 4, 4, 6, 2, 7, 7, 6, 5, 7, 4, 3, 4, 6, 2,\n",
       "       5, 9, 7, 5, 3, 7, 5, 3, 3, 7, 6, 7, 7, 5, 5, 5, 4, 5, 6, 5, 7, 5,\n",
       "       5, 6, 5, 6, 4, 5, 3, 5, 5, 6, 8, 5, 6, 5, 6, 3, 4, 4, 5, 2, 3, 4,\n",
       "       8, 4, 5, 4, 5, 4, 4, 5, 1, 1, 4, 2, 3, 4, 6, 5, 5, 4, 7, 5, 3, 5,\n",
       "       3, 4, 5, 7, 5, 6, 9, 3, 4, 5, 5, 5, 7, 6, 5, 4, 6, 8, 6, 1, 6, 2,\n",
       "       4, 3, 5, 6, 3, 5, 5, 4, 3, 5, 6, 3, 3, 4, 7, 6, 6, 4, 5, 1, 6, 7,\n",
       "       5, 7, 6, 3, 7, 3, 5, 3, 2, 5, 4, 5, 5, 2, 3, 5, 4, 6, 6, 7, 6, 5,\n",
       "       6, 4, 4, 6, 5, 6, 6, 7, 7, 5, 4, 5, 4, 5, 6, 6, 4, 3, 5, 3, 7, 4,\n",
       "       3, 2, 6, 6, 4, 3, 5, 4, 6, 5, 4, 4, 8, 5, 6, 3, 5, 2, 5, 8, 5, 2,\n",
       "       2, 5, 3, 2, 6, 5, 4, 7, 3, 8, 4, 7, 5, 6, 8, 4, 8, 5, 5, 4, 5, 3,\n",
       "       5, 5, 6, 7, 5, 4, 4, 4, 3, 4, 4, 8, 5, 4, 5, 3, 5, 6, 5, 5, 9, 7,\n",
       "       6, 5, 5, 4, 5, 2, 5, 5, 4, 8, 7, 6, 5, 7, 3, 6, 3, 6, 4, 7, 7, 3,\n",
       "       5, 8, 5, 7, 5, 4, 4, 4, 6, 5, 5, 5, 5, 7, 8, 5, 6, 6, 5, 8, 4, 3,\n",
       "       7, 5, 7, 7, 3, 7, 5, 5, 6, 7, 2, 5, 6, 6, 6, 3, 4, 4, 6, 4, 4, 8,\n",
       "       1, 9, 6, 7, 4, 2, 6, 7, 6, 3, 6, 6, 6, 6, 7, 5, 3, 5, 3, 5, 5, 3,\n",
       "       4, 3, 6, 8, 3, 8, 5, 4, 3, 5, 6, 6, 2, 3, 5, 4, 4, 4, 6, 7, 5, 7,\n",
       "       4, 5, 4, 6, 8, 5, 4, 6, 3, 7, 5, 5, 5, 6, 3, 6, 4, 6, 6, 6, 5, 5,\n",
       "       3, 6, 4, 5, 4, 3, 6, 2, 6, 4, 0, 5, 2, 4, 6, 3, 7, 1, 4, 6, 4, 3,\n",
       "       4, 4, 7, 4, 6, 7, 5, 7, 5, 8, 3, 6, 5, 5, 6, 6, 1, 3, 6, 6, 8, 6,\n",
       "       8, 6, 4, 3, 6, 6, 2, 4, 8, 5, 5, 5, 4, 4, 4, 2, 6, 5, 6, 7, 4, 6,\n",
       "       5, 7, 4, 6, 5, 4, 3, 6, 6, 4, 6, 5, 6, 4, 7, 4, 4, 3, 3, 5, 4, 7,\n",
       "       2, 5, 4, 2, 3, 5, 5, 5, 5, 5, 1, 5, 8, 5, 6, 4, 6, 6, 5, 8, 3, 2,\n",
       "       6, 6, 3, 4, 2, 4, 6, 5, 4, 4, 1, 4, 6, 8, 7, 2, 7, 6, 6, 5, 5, 4,\n",
       "       3, 4, 4, 5, 6, 5, 3, 8, 7, 6, 9, 5, 8, 3, 4, 4, 4, 3, 5, 6, 5, 3,\n",
       "       6, 6, 5, 6, 4, 4, 7, 4, 5, 7, 6, 3, 3, 1, 6, 5, 3, 8, 5, 4, 5, 6,\n",
       "       3, 4, 6, 5, 5, 5, 2, 3, 5, 4, 2, 7, 8, 6, 7, 4, 8, 4, 8, 9, 6, 8,\n",
       "       5, 4, 5, 5, 3, 5, 8, 4, 6, 7, 7, 8, 5, 8, 6, 3, 5, 6, 4, 6, 6, 3,\n",
       "       5, 6, 5, 2, 1, 4, 7, 4, 6, 4, 4, 7, 6, 3, 5, 2, 5, 6, 3, 4, 5, 7,\n",
       "       9, 2, 6, 4, 5, 6, 7, 8, 5, 4, 6, 4, 5, 4, 6, 4, 4, 7, 3, 5, 4, 2,\n",
       "       2, 4, 7, 4, 8, 5, 5, 5, 5, 6, 4, 4, 7, 8, 7, 5, 6, 5, 5, 4, 5, 4,\n",
       "       4, 7, 4, 3, 3, 7, 5, 5, 6, 7, 4, 6, 6, 6, 3, 7, 5, 4, 5, 2, 3, 6,\n",
       "       0, 5, 5, 2, 8, 4, 4, 4, 4, 1, 6, 8, 4, 6, 6, 7, 5, 4, 4, 6, 6, 4,\n",
       "       4, 7, 6, 8, 6, 5, 5, 6, 3, 5, 6, 3, 6, 5, 8, 2, 4, 5, 4, 6, 6, 3,\n",
       "       5, 5, 4, 7, 6, 6, 6, 5, 7, 6, 6, 7, 4, 6, 4, 4, 4, 8, 7, 6, 6, 5,\n",
       "       8, 5, 5, 3, 6, 6, 5, 2, 7, 2, 6, 8, 5, 4, 6, 6, 5, 8, 2, 5, 6, 7,\n",
       "       4, 6, 5, 5, 3, 7, 3, 4, 4, 7])"
      ]
     },
     "execution_count": 15,
     "metadata": {},
     "output_type": "execute_result"
    }
   ],
   "source": [
    "# n - number of time a coin is tossed\n",
    "# p - probability of getting a head\n",
    "# size - sample size\n",
    "\n",
    "n = 10\n",
    "p = 0.5\n",
    "size = 1000\n",
    "\n",
    "# samples is an array with 1000 elements, where each element represents the number of times a head occurred out of 10 tosses\n",
    "samples = np.random.binomial(n, p, size)\n",
    "samples"
   ]
  },
  {
   "cell_type": "code",
   "execution_count": 16,
   "id": "b0110a34",
   "metadata": {},
   "outputs": [
    {
     "data": {
      "text/plain": [
       "Counter({4: 198,\n",
       "         7: 112,\n",
       "         6: 209,\n",
       "         5: 242,\n",
       "         3: 113,\n",
       "         2: 48,\n",
       "         8: 57,\n",
       "         9: 7,\n",
       "         1: 12,\n",
       "         0: 2})"
      ]
     },
     "execution_count": 16,
     "metadata": {},
     "output_type": "execute_result"
    }
   ],
   "source": [
    "# Count the number of occurrence\n",
    "head_occur_count = Counter(samples)\n",
    "head_occur_count"
   ]
  },
  {
   "cell_type": "code",
   "execution_count": 17,
   "id": "ff8f2271",
   "metadata": {},
   "outputs": [
    {
     "data": {
      "text/plain": [
       "[0.198, 0.112, 0.209, 0.242, 0.113, 0.048, 0.057, 0.007, 0.012, 0.002]"
      ]
     },
     "execution_count": 17,
     "metadata": {},
     "output_type": "execute_result"
    }
   ],
   "source": [
    "# Calculate the probability\n",
    "p_h = [val/size for val in head_occur_count.values()]\n",
    "p_h"
   ]
  },
  {
   "cell_type": "code",
   "execution_count": 18,
   "id": "8ec01d1b",
   "metadata": {},
   "outputs": [
    {
     "data": {
      "image/png": "[encoded data removed]",
      "text/plain": [
       "<Figure size 432x288 with 1 Axes>"
      ]
     },
     "metadata": {},
     "output_type": "display_data"
    }
   ],
   "source": [
    "# Plot the distribution\n",
    "plt.scatter(x=head_occur_count.keys(), y=p_h)\n",
    "plt.xlabel('Number of heads out of 10 tosses')\n",
    "plt.ylabel('Probability')\n",
    "\n",
    "plt.show()"
   ]
  },
  {
   "cell_type": "markdown",
   "id": "ba79e7ce",
   "metadata": {},
   "source": [
    "## Normal Distribution (Continuous Distribution)"
   ]
  },
  {
   "cell_type": "markdown",
   "id": "f56589e0",
   "metadata": {},
   "source": [
    "A normal distribution, also known as a Gaussian distribution, is a probability distribution that is symmetric around the mean, showing that data near the mean are more frequent in occurrence than data far from the mean. In a graph, the normal distribution will appear as a bell curve."
   ]
  },
  {
   "cell_type": "code",
   "execution_count": 19,
   "id": "34fa2a24",
   "metadata": {},
   "outputs": [
    {
     "data": {
      "text/plain": [
       "array([ 1.05993638,  0.61700595,  0.68356932, ..., -0.27797872,\n",
       "        0.05088169,  0.51695533])"
      ]
     },
     "execution_count": 19,
     "metadata": {},
     "output_type": "execute_result"
    }
   ],
   "source": [
    "# loc - mean of the distribution\n",
    "# scale - standard deviation of the distribution\n",
    "\n",
    "samples = np.random.normal(loc=0, scale=1, size=1000000)\n",
    "samples"
   ]
  },
  {
   "cell_type": "code",
   "execution_count": 21,
   "id": "031b6cf8",
   "metadata": {},
   "outputs": [
    {
     "data": {
      "image/png": "[encoded data removed]",
      "text/plain": [
       "<Figure size 432x288 with 1 Axes>"
      ]
     },
     "metadata": {},
     "output_type": "display_data"
    }
   ],
   "source": [
    "# Plot the pdf (probability density function)\n",
    "plt.hist(samples, density=True, histtype='step', bins=100)\n",
    "\n",
    "plt.show()"
   ]
  },
  {
   "cell_type": "code",
   "execution_count": 22,
   "id": "f2672b07",
   "metadata": {},
   "outputs": [
    {
     "data": {
      "image/png": "[encoded data removed]",
      "text/plain": [
       "<Figure size 432x288 with 1 Axes>"
      ]
     },
     "metadata": {},
     "output_type": "display_data"
    }
   ],
   "source": [
    "samples_std1 = np.random.normal(20, 1, size=100000)\n",
    "samples_std3 = np.random.normal(20, 3, size=100000)\n",
    "samples_std10 = np.random.normal(20, 10, size=100000)\n",
    "\n",
    "# make histograms\n",
    "plt.hist(samples_std1, density = True, histtype=\"step\", bins=100)\n",
    "plt.hist(samples_std3, density = True, histtype=\"step\", bins=100)\n",
    "plt.hist(samples_std10, density = True, histtype=\"step\", bins=100)\n",
    "\n",
    "# make a legend, set limits, and show the plot\n",
    "plt.legend(('std = 1', 'std = 3', 'std = 10'))\n",
    "plt.ylim(-0.01, 0.42)\n",
    "plt.show()"
   ]
  },
  {
   "cell_type": "code",
   "execution_count": 23,
   "id": "90a95a07",
   "metadata": {},
   "outputs": [
    {
     "data": {
      "image/png": "[encoded data removed]",
      "text/plain": [
       "<Figure size 432x288 with 1 Axes>"
      ]
     },
     "metadata": {},
     "output_type": "display_data"
    }
   ],
   "source": [
    "samples_std1 = np.random.normal(10, 3, size=100000)\n",
    "samples_std3 = np.random.normal(20, 3, size=100000)\n",
    "samples_std10 = np.random.normal(30, 3, size=100000)\n",
    "\n",
    "# make histograms\n",
    "plt.hist(samples_std1, density = True, histtype=\"step\", bins=100)\n",
    "plt.hist(samples_std3, density = True, histtype=\"step\", bins=100)\n",
    "plt.hist(samples_std10, density = True, histtype=\"step\", bins=100)\n",
    "\n",
    "# make a legend, set limits, and show the plot\n",
    "plt.legend(('mean = 10', 'mean = 20', 'mean = 30'))\n",
    "plt.ylim(-0.01, 0.42)\n",
    "plt.show()"
   ]
  }
 ],
 "metadata": {
  "kernelspec": {
   "display_name": "Python 3 (ipykernel)",
   "language": "python",
   "name": "python3"
  },
  "language_info": {
   "codemirror_mode": {
    "name": "ipython",
    "version": 3
   },
   "file_extension": ".py",
   "mimetype": "text/x-python",
   "name": "python",
   "nbconvert_exporter": "python",
   "pygments_lexer": "ipython3",
   "version": "3.9.12"
  }
 },
 "nbformat": 4,
 "nbformat_minor": 5
}
